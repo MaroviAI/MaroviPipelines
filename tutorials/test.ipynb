{
 "cells": [
  {
   "cell_type": "code",
   "execution_count": 1,
   "metadata": {},
   "outputs": [],
   "source": [
    "from marovipipelines.core import Pipeline, PipelineStep, PipelineContext\n",
    "from typing import List, Dict, Any\n",
    "import logging\n"
   ]
  },
  {
   "cell_type": "code",
   "execution_count": 2,
   "metadata": {},
   "outputs": [],
   "source": [
    "# Configure logging\n",
    "logging.basicConfig(level=logging.INFO)\n",
    "\n",
    "class UppercaseStep(PipelineStep[str, str]):\n",
    "    \"\"\"Simple step that converts text to uppercase.\"\"\"\n",
    "    \n",
    "    def process(self, inputs: List[str], context: PipelineContext) -> List[str]:\n",
    "        return [text.upper() for text in inputs]\n",
    "\n",
    "\n",
    "class AddPrefixStep(PipelineStep[str, str]):\n",
    "    \"\"\"Simple step that adds a prefix to text.\"\"\"\n",
    "    \n",
    "    def __init__(self, prefix: str = \">> \"):\n",
    "        super().__init__()\n",
    "        self.prefix = prefix\n",
    "    \n",
    "    def process(self, inputs: List[str], context: PipelineContext) -> List[str]:\n",
    "        return [f\"{self.prefix}{text}\" for text in inputs]"
   ]
  },
  {
   "cell_type": "code",
   "execution_count": 3,
   "metadata": {},
   "outputs": [
    {
     "name": "stderr",
     "output_type": "stream",
     "text": [
      "INFO:marovipipelines.core.pipeline:Initialized simple_pipeline pipeline with 2 steps\n",
      "INFO:marovipipelines.core.context:Initialized PipelineContext ctx_1745103267_7aca6464fe50 with metadata: {'description': 'Simple text processing pipeline'}\n",
      "INFO:marovipipelines.core.pipeline:Running step 'UppercaseStep' (1/2) with 3 inputs\n",
      "INFO:marovipipelines.core.pipeline:UppercaseStep: Successfully processed 1 items in 0.00s\n",
      "INFO:marovipipelines.core.pipeline:UppercaseStep: Successfully processed 1 items in 0.00s\n",
      "INFO:marovipipelines.core.pipeline:UppercaseStep: Successfully processed 1 items in 0.00s\n",
      "INFO:marovipipelines.core.context:Saved checkpoint to checkpoints/ctx_1745103267_7aca6464fe50_simple_pipeline_after_UppercaseStep.json\n",
      "INFO:marovipipelines.core.pipeline:Checkpoint saved: checkpoints/ctx_1745103267_7aca6464fe50_simple_pipeline_after_UppercaseStep.json\n",
      "INFO:marovipipelines.core.pipeline:Completed step 'UppercaseStep' with 3 outputs\n",
      "INFO:marovipipelines.core.pipeline:Running step 'AddPrefixStep' (2/2) with 3 inputs\n",
      "INFO:marovipipelines.core.pipeline:AddPrefixStep: Successfully processed 1 items in 0.00s\n",
      "INFO:marovipipelines.core.pipeline:AddPrefixStep: Successfully processed 1 items in 0.00s\n",
      "INFO:marovipipelines.core.pipeline:AddPrefixStep: Successfully processed 1 items in 0.00s\n",
      "INFO:marovipipelines.core.context:Saved checkpoint to checkpoints/ctx_1745103267_7aca6464fe50_simple_pipeline_after_AddPrefixStep.json\n",
      "INFO:marovipipelines.core.pipeline:Checkpoint saved: checkpoints/ctx_1745103267_7aca6464fe50_simple_pipeline_after_AddPrefixStep.json\n",
      "INFO:marovipipelines.core.pipeline:Completed step 'AddPrefixStep' with 3 outputs\n",
      "INFO:marovipipelines.core.pipeline:Pipeline 'simple_pipeline' completed successfully in 0.01s\n"
     ]
    },
    {
     "name": "stdout",
     "output_type": "stream",
     "text": [
      "\n",
      "Pipeline Results:\n",
      "-----------------\n",
      "Original: hello world\n",
      "Processed: -> HELLO WORLD\n",
      "\n",
      "Original: testing the pipeline\n",
      "Processed: -> TESTING THE PIPELINE\n",
      "\n",
      "Original: this is a simple example\n",
      "Processed: -> THIS IS A SIMPLE EXAMPLE\n",
      "\n",
      "Pipeline Metrics:\n",
      "-----------------\n",
      "{'context_id': 'ctx_1745103267_7aca6464fe50', 'creation_time': 1745103267.7313766, 'last_updated': 1745103267.7404943, 'steps_executed': 6, 'state_entries': 2, 'metrics_tracked': ['step_UppercaseStep_execution_time', 'step_UppercaseStep_output_count', 'step_AddPrefixStep_execution_time', 'step_AddPrefixStep_output_count', 'pipeline_total_execution_time', 'pipeline_steps_executed', 'pipeline_final_output_count'], 'artifacts_registered': [], 'metadata': {'description': 'Simple text processing pipeline', 'pipeline_name': 'simple_pipeline', 'pipeline_start_time': 1745103267.731838, 'pipeline_end_time': 1745103267.7404935}}\n"
     ]
    }
   ],
   "source": [
    "\n",
    "def main():\n",
    "    # Create pipeline steps\n",
    "    uppercase_step = UppercaseStep()\n",
    "    prefix_step = AddPrefixStep(prefix=\"-> \")\n",
    "    \n",
    "    # Create pipeline\n",
    "    pipeline = Pipeline(\n",
    "        steps=[uppercase_step, prefix_step],\n",
    "        name=\"simple_pipeline\"\n",
    "    )\n",
    "    \n",
    "    # Create context\n",
    "    context = PipelineContext(\n",
    "        metadata={\"description\": \"Simple text processing pipeline\"}\n",
    "    )\n",
    "    \n",
    "    # Input data\n",
    "    inputs = [\n",
    "        \"hello world\",\n",
    "        \"testing the pipeline\",\n",
    "        \"this is a simple example\"\n",
    "    ]\n",
    "    \n",
    "    # Run pipeline\n",
    "    outputs = pipeline.run(inputs, context)\n",
    "    \n",
    "    # Print results\n",
    "    print(\"\\nPipeline Results:\")\n",
    "    print(\"-----------------\")\n",
    "    for original, processed in zip(inputs, outputs):\n",
    "        print(f\"Original: {original}\")\n",
    "        print(f\"Processed: {processed}\")\n",
    "        print()\n",
    "    \n",
    "    # Print pipeline metrics\n",
    "    print(\"Pipeline Metrics:\")\n",
    "    print(\"-----------------\")\n",
    "    print(context.get_summary())\n",
    "\n",
    "main()"
   ]
  }
 ],
 "metadata": {
  "kernelspec": {
   "display_name": "marovipipelines-56oYybaG-py3.10",
   "language": "python",
   "name": "python3"
  },
  "language_info": {
   "codemirror_mode": {
    "name": "ipython",
    "version": 3
   },
   "file_extension": ".py",
   "mimetype": "text/x-python",
   "name": "python",
   "nbconvert_exporter": "python",
   "pygments_lexer": "ipython3",
   "version": "3.10.12"
  }
 },
 "nbformat": 4,
 "nbformat_minor": 2
}
